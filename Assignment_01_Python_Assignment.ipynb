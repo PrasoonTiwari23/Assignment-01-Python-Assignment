{
  "nbformat": 4,
  "nbformat_minor": 0,
  "metadata": {
    "colab": {
      "provenance": []
    },
    "kernelspec": {
      "name": "python3",
      "display_name": "Python 3"
    },
    "language_info": {
      "name": "python"
    }
  },
  "cells": [
    {
      "cell_type": "markdown",
      "source": [
        "**Q1.**"
      ],
      "metadata": {
        "id": "90n7TpUJz36h"
      }
    },
    {
      "cell_type": "markdown",
      "source": [
        "**(i)**"
      ],
      "metadata": {
        "id": "JAbKu_YOz_ve"
      }
    },
    {
      "cell_type": "code",
      "execution_count": 2,
      "metadata": {
        "colab": {
          "base_uri": "https://localhost:8080/"
        },
        "id": "rGLAkZTvs0vI",
        "outputId": "e53d0d82-2cbc-4cd0-a82b-e19d67605824"
      },
      "outputs": [
        {
          "output_type": "execute_result",
          "data": {
            "text/plain": [
              "[11, 12, 13, 14, 50, 60]"
            ]
          },
          "metadata": {},
          "execution_count": 2
        }
      ],
      "source": [
        "L=[11,12,13,14]\n",
        "L.append(50)\n",
        "L.append(60)\n",
        "L"
      ]
    },
    {
      "cell_type": "markdown",
      "source": [
        "**(ii)**"
      ],
      "metadata": {
        "id": "kuqEnPBU0llV"
      }
    },
    {
      "cell_type": "code",
      "source": [
        "L.remove(11)\n",
        "L.remove(13)\n",
        "L"
      ],
      "metadata": {
        "colab": {
          "base_uri": "https://localhost:8080/"
        },
        "id": "-lXhft5h0oJ1",
        "outputId": "f623b17f-795c-4306-8a6c-82bc18c10909"
      },
      "execution_count": 3,
      "outputs": [
        {
          "output_type": "execute_result",
          "data": {
            "text/plain": [
              "[12, 14, 50, 60]"
            ]
          },
          "metadata": {},
          "execution_count": 3
        }
      ]
    },
    {
      "cell_type": "markdown",
      "source": [
        "**(iii)**"
      ],
      "metadata": {
        "id": "e1D8J1E39ckh"
      }
    },
    {
      "cell_type": "code",
      "source": [
        "L.sort()\n",
        "L"
      ],
      "metadata": {
        "colab": {
          "base_uri": "https://localhost:8080/"
        },
        "id": "M576VAQs9gGB",
        "outputId": "56d21eb7-4570-4221-d955-4f6e3697ba9e"
      },
      "execution_count": 4,
      "outputs": [
        {
          "output_type": "execute_result",
          "data": {
            "text/plain": [
              "[12, 14, 50, 60]"
            ]
          },
          "metadata": {},
          "execution_count": 4
        }
      ]
    },
    {
      "cell_type": "markdown",
      "source": [
        "**(iv)**"
      ],
      "metadata": {
        "id": "msbKc6cu9nIj"
      }
    },
    {
      "cell_type": "code",
      "source": [
        "L.sort(reverse=True)\n",
        "L"
      ],
      "metadata": {
        "colab": {
          "base_uri": "https://localhost:8080/"
        },
        "id": "IEfbk6gY9qlk",
        "outputId": "fc7d3808-961c-45e1-8e82-d43171bb08de"
      },
      "execution_count": 5,
      "outputs": [
        {
          "output_type": "execute_result",
          "data": {
            "text/plain": [
              "[60, 50, 14, 12]"
            ]
          },
          "metadata": {},
          "execution_count": 5
        }
      ]
    },
    {
      "cell_type": "markdown",
      "source": [
        "**(v)**"
      ],
      "metadata": {
        "id": "AD5lecOV9wlu"
      }
    },
    {
      "cell_type": "code",
      "source": [
        "try:\n",
        "  L.index(13)\n",
        "except:\n",
        "  print('Element not found')\n"
      ],
      "metadata": {
        "colab": {
          "base_uri": "https://localhost:8080/"
        },
        "id": "hqjgQ_Hg9yct",
        "outputId": "7306d9fb-7186-4318-f0ea-15d66edf63c3"
      },
      "execution_count": 9,
      "outputs": [
        {
          "output_type": "stream",
          "name": "stdout",
          "text": [
            "Element not found\n"
          ]
        }
      ]
    },
    {
      "cell_type": "markdown",
      "source": [
        "**(vi)**"
      ],
      "metadata": {
        "id": "TXqZ-_uw-pK_"
      }
    },
    {
      "cell_type": "code",
      "source": [
        "len(L)"
      ],
      "metadata": {
        "colab": {
          "base_uri": "https://localhost:8080/"
        },
        "id": "B5kT8JjO-rQC",
        "outputId": "3014f86d-3896-495d-95dd-f24fb4058457"
      },
      "execution_count": 11,
      "outputs": [
        {
          "output_type": "execute_result",
          "data": {
            "text/plain": [
              "4"
            ]
          },
          "metadata": {},
          "execution_count": 11
        }
      ]
    },
    {
      "cell_type": "markdown",
      "source": [
        "**(vii)**"
      ],
      "metadata": {
        "id": "k5b3bF5A-2sY"
      }
    },
    {
      "cell_type": "code",
      "source": [
        "sum=0\n",
        "for i in L:\n",
        "  sum+=i\n",
        "sum"
      ],
      "metadata": {
        "colab": {
          "base_uri": "https://localhost:8080/"
        },
        "id": "nloTwzaw-71j",
        "outputId": "f59a73be-fabb-4942-c229-410daf6e35f4"
      },
      "execution_count": 12,
      "outputs": [
        {
          "output_type": "execute_result",
          "data": {
            "text/plain": [
              "136"
            ]
          },
          "metadata": {},
          "execution_count": 12
        }
      ]
    },
    {
      "cell_type": "markdown",
      "source": [
        "**(viii)**"
      ],
      "metadata": {
        "id": "6IHbfm7C_Xk9"
      }
    },
    {
      "cell_type": "code",
      "source": [
        "sum=0\n",
        "for i in L:\n",
        "  if(i%2!=0):\n",
        "    sum+=i\n",
        "sum"
      ],
      "metadata": {
        "colab": {
          "base_uri": "https://localhost:8080/"
        },
        "id": "etXcdtJz_ZcM",
        "outputId": "b81ddb5e-0c82-4640-fea7-5f26c373d732"
      },
      "execution_count": 13,
      "outputs": [
        {
          "output_type": "execute_result",
          "data": {
            "text/plain": [
              "0"
            ]
          },
          "metadata": {},
          "execution_count": 13
        }
      ]
    },
    {
      "cell_type": "markdown",
      "source": [
        "**(ix)**"
      ],
      "metadata": {
        "id": "3nBGxY_C_k32"
      }
    },
    {
      "cell_type": "code",
      "source": [
        "sum=0\n",
        "for i in L:\n",
        "  if(i%2==0):\n",
        "    sum+=i\n",
        "sum"
      ],
      "metadata": {
        "colab": {
          "base_uri": "https://localhost:8080/"
        },
        "id": "zZwmctbu_m7L",
        "outputId": "84ee1d54-6ed4-4338-84a9-d19378994612"
      },
      "execution_count": 14,
      "outputs": [
        {
          "output_type": "execute_result",
          "data": {
            "text/plain": [
              "136"
            ]
          },
          "metadata": {},
          "execution_count": 14
        }
      ]
    },
    {
      "cell_type": "markdown",
      "source": [
        "**(x)**"
      ],
      "metadata": {
        "id": "ToBZplSr_sHY"
      }
    },
    {
      "cell_type": "code",
      "source": [
        "sum=0\n",
        "def prime(n):\n",
        "  for i in range(2,int(n/2)+1):\n",
        "    if(n%i==0):\n",
        "      return 0\n",
        "  return 1\n",
        "for j in L:\n",
        "  if(prime(j)==1):\n",
        "    sum+=j\n",
        "sum"
      ],
      "metadata": {
        "colab": {
          "base_uri": "https://localhost:8080/"
        },
        "id": "Wh6ITkYv_uAC",
        "outputId": "276cfbf0-5d41-4650-8b84-a49a6140c6b1"
      },
      "execution_count": 18,
      "outputs": [
        {
          "output_type": "execute_result",
          "data": {
            "text/plain": [
              "0"
            ]
          },
          "metadata": {},
          "execution_count": 18
        }
      ]
    },
    {
      "cell_type": "markdown",
      "source": [
        "**(xi)**"
      ],
      "metadata": {
        "id": "Yi9lZUqgBO4Z"
      }
    },
    {
      "cell_type": "code",
      "source": [
        "L.clear()\n",
        "L"
      ],
      "metadata": {
        "colab": {
          "base_uri": "https://localhost:8080/"
        },
        "id": "jqg7vohGBQlJ",
        "outputId": "999b129b-1d38-4278-8795-85719a850c9d"
      },
      "execution_count": 19,
      "outputs": [
        {
          "output_type": "execute_result",
          "data": {
            "text/plain": [
              "[]"
            ]
          },
          "metadata": {},
          "execution_count": 19
        }
      ]
    },
    {
      "cell_type": "markdown",
      "source": [
        "**(xii)**"
      ],
      "metadata": {
        "id": "FuMo5osvBV_W"
      }
    },
    {
      "cell_type": "code",
      "source": [
        "L=[12,13,14,15]\n",
        "del(L)\n",
        "#error raised due to deletion of list\n",
        "L"
      ],
      "metadata": {
        "colab": {
          "base_uri": "https://localhost:8080/",
          "height": 200
        },
        "id": "MY-yJZqNBX1H",
        "outputId": "41dd0999-7eb3-4dbb-c4cd-eea49612600c"
      },
      "execution_count": 27,
      "outputs": [
        {
          "output_type": "error",
          "ename": "NameError",
          "evalue": "ignored",
          "traceback": [
            "\u001b[0;31m---------------------------------------------------------------------------\u001b[0m",
            "\u001b[0;31mNameError\u001b[0m                                 Traceback (most recent call last)",
            "\u001b[0;32m<ipython-input-27-304dcf74f0ab>\u001b[0m in \u001b[0;36m<cell line: 3>\u001b[0;34m()\u001b[0m\n\u001b[1;32m      1\u001b[0m \u001b[0mL\u001b[0m\u001b[0;34m=\u001b[0m\u001b[0;34m[\u001b[0m\u001b[0;36m12\u001b[0m\u001b[0;34m,\u001b[0m\u001b[0;36m13\u001b[0m\u001b[0;34m,\u001b[0m\u001b[0;36m14\u001b[0m\u001b[0;34m,\u001b[0m\u001b[0;36m15\u001b[0m\u001b[0;34m]\u001b[0m\u001b[0;34m\u001b[0m\u001b[0;34m\u001b[0m\u001b[0m\n\u001b[1;32m      2\u001b[0m \u001b[0;32mdel\u001b[0m\u001b[0;34m(\u001b[0m\u001b[0mL\u001b[0m\u001b[0;34m)\u001b[0m\u001b[0;34m\u001b[0m\u001b[0;34m\u001b[0m\u001b[0m\n\u001b[0;32m----> 3\u001b[0;31m \u001b[0mL\u001b[0m\u001b[0;34m\u001b[0m\u001b[0;34m\u001b[0m\u001b[0m\n\u001b[0m",
            "\u001b[0;31mNameError\u001b[0m: name 'L' is not defined"
          ]
        }
      ]
    },
    {
      "cell_type": "markdown",
      "source": [
        "**Q2.**"
      ],
      "metadata": {
        "id": "pBEYK6CACLlb"
      }
    },
    {
      "cell_type": "markdown",
      "source": [
        "**(i)**"
      ],
      "metadata": {
        "id": "OcxmCycoCOcb"
      }
    },
    {
      "cell_type": "code",
      "source": [
        "\n",
        "D = {1: 5.6, 2: 7.8, 3: 6.6, 4: 8.7, 5: 7.7}\n",
        "\n",
        "D[8] = 8.8  \n",
        "\n",
        "print(D)  \n"
      ],
      "metadata": {
        "colab": {
          "base_uri": "https://localhost:8080/"
        },
        "id": "l_z4TJxQCQRb",
        "outputId": "759ff73b-80dc-4cea-d9ae-21327eae7984"
      },
      "execution_count": 29,
      "outputs": [
        {
          "output_type": "stream",
          "name": "stdout",
          "text": [
            "{1: 5.6, 2: 7.8, 3: 6.6, 4: 8.7, 5: 7.7, 8: 8.8}\n"
          ]
        }
      ]
    },
    {
      "cell_type": "markdown",
      "source": [
        "**(ii)**"
      ],
      "metadata": {
        "id": "vtbkcuFSNzft"
      }
    },
    {
      "cell_type": "code",
      "source": [
        "D = {1: 5.6, 2: 7.8, 3: 6.6, 4: 8.7, 5: 7.7}\n",
        "\n",
        "del D[2]  \n",
        "\n",
        "print(D)  \n"
      ],
      "metadata": {
        "colab": {
          "base_uri": "https://localhost:8080/"
        },
        "id": "583Dv609N1TW",
        "outputId": "c30b1ef4-0c80-41c1-cfb7-880d6181a05e"
      },
      "execution_count": 30,
      "outputs": [
        {
          "output_type": "stream",
          "name": "stdout",
          "text": [
            "{1: 5.6, 3: 6.6, 4: 8.7, 5: 7.7}\n"
          ]
        }
      ]
    },
    {
      "cell_type": "markdown",
      "source": [
        "**(iii)**"
      ],
      "metadata": {
        "id": "sfCnNzyJN5_R"
      }
    },
    {
      "cell_type": "code",
      "source": [
        "D = {1: 5.6, 2: 7.8, 3: 6.6, 4: 8.7, 5: 7.7}\n",
        "\n",
        "if 6 in D:\n",
        "    print(\"Key 6 is present in the dictionary.\")\n",
        "else:\n",
        "    print(\"Key 6 is not present in the dictionary.\")\n"
      ],
      "metadata": {
        "colab": {
          "base_uri": "https://localhost:8080/"
        },
        "id": "q3pFd_8ZN74V",
        "outputId": "9f91a13f-1817-45bc-ade2-f7593b5a8430"
      },
      "execution_count": 31,
      "outputs": [
        {
          "output_type": "stream",
          "name": "stdout",
          "text": [
            "Key 6 is not present in the dictionary.\n"
          ]
        }
      ]
    },
    {
      "cell_type": "markdown",
      "source": [
        "**(iv)**"
      ],
      "metadata": {
        "id": "KV9ppEqyObaw"
      }
    },
    {
      "cell_type": "code",
      "source": [
        "D = {1: 5.6, 2: 7.8, 3: 6.6, 4: 8.7, 5: 7.7}\n",
        "\n",
        "count = len(D)  # Counting the number of elements in the dictionary\n",
        "\n",
        "print(\"Number of elements in D:\", count)\n"
      ],
      "metadata": {
        "colab": {
          "base_uri": "https://localhost:8080/"
        },
        "id": "-BuLRJpxOdZh",
        "outputId": "66797725-4cbf-4021-bbe7-228f0319e6e9"
      },
      "execution_count": 32,
      "outputs": [
        {
          "output_type": "stream",
          "name": "stdout",
          "text": [
            "Number of elements in D: 5\n"
          ]
        }
      ]
    },
    {
      "cell_type": "markdown",
      "source": [
        "**(v)**"
      ],
      "metadata": {
        "id": "f9kPkLVQlPzv"
      }
    },
    {
      "cell_type": "code",
      "source": [
        "total=0\n",
        "D = {1: 5.6, 2: 7.8, 3: 6.6, 4: 8.7, 5: 7.7}\n",
        "for i in D:\n",
        "  total+=D[i]  \n",
        "\n",
        "print(\"Sum of all values in D:\", total)\n"
      ],
      "metadata": {
        "colab": {
          "base_uri": "https://localhost:8080/"
        },
        "id": "Onrvih5qlR6w",
        "outputId": "53d3e007-6547-498d-b02d-76615e60458e"
      },
      "execution_count": 34,
      "outputs": [
        {
          "output_type": "stream",
          "name": "stdout",
          "text": [
            "Sum of all values in D: 36.4\n"
          ]
        }
      ]
    },
    {
      "cell_type": "markdown",
      "source": [
        "**(vi)**"
      ],
      "metadata": {
        "id": "Qf6d2AfXlgkq"
      }
    },
    {
      "cell_type": "code",
      "source": [
        "D = {1: 5.6, 2: 7.8, 3: 6.6, 4: 8.7, 5: 7.7}\n",
        "\n",
        "D[3] = 7.1  \n",
        "\n",
        "print(D)  \n"
      ],
      "metadata": {
        "colab": {
          "base_uri": "https://localhost:8080/"
        },
        "id": "oBz5eOfjliw-",
        "outputId": "1593a779-dd19-4ab5-e890-dd8cfd59947a"
      },
      "execution_count": 35,
      "outputs": [
        {
          "output_type": "stream",
          "name": "stdout",
          "text": [
            "{1: 5.6, 2: 7.8, 3: 7.1, 4: 8.7, 5: 7.7}\n"
          ]
        }
      ]
    },
    {
      "cell_type": "markdown",
      "source": [
        "**(vii)**"
      ],
      "metadata": {
        "id": "j54zq_Kol4bQ"
      }
    },
    {
      "cell_type": "code",
      "source": [
        "D = {1: 5.6, 2: 7.8, 3: 6.6, 4: 8.7, 5: 7.7}\n",
        "\n",
        "D.clear()  # Clearing the dictionary\n",
        "\n",
        "print(D)  # Print the cleared dictionary\n"
      ],
      "metadata": {
        "colab": {
          "base_uri": "https://localhost:8080/"
        },
        "id": "sZRiRuyomBSj",
        "outputId": "29a86c33-4329-47ce-b9ed-55dd8fb226b1"
      },
      "execution_count": 36,
      "outputs": [
        {
          "output_type": "stream",
          "name": "stdout",
          "text": [
            "{}\n"
          ]
        }
      ]
    },
    {
      "cell_type": "markdown",
      "source": [
        "**Q3.**"
      ],
      "metadata": {
        "id": "Aa3cyGzrmH2E"
      }
    },
    {
      "cell_type": "markdown",
      "source": [
        "**(i)**"
      ],
      "metadata": {
        "id": "fhcTENKcmKVU"
      }
    },
    {
      "cell_type": "code",
      "source": [
        "S1= {10, 20, 30, 40, 50, 60}\n",
        "S2= {40, 50, 60, 70, 80, 90}\n",
        "\n",
        "S1.add(55)  # Adding 55 to S1\n",
        "S1.add(66)  # Adding 66 to S1\n",
        "\n",
        "print(S1)  # Print the updated set S1\n"
      ],
      "metadata": {
        "colab": {
          "base_uri": "https://localhost:8080/"
        },
        "id": "2TXE9kZtpPLm",
        "outputId": "835d434f-ad60-44a0-91e2-8d20004ccb29"
      },
      "execution_count": 39,
      "outputs": [
        {
          "output_type": "stream",
          "name": "stdout",
          "text": [
            "{50, 66, 20, 55, 40, 10, 60, 30}\n"
          ]
        }
      ]
    },
    {
      "cell_type": "markdown",
      "source": [
        "**(ii)**"
      ],
      "metadata": {
        "id": "D6cngiHYp8zi"
      }
    },
    {
      "cell_type": "code",
      "source": [
        "S1 = {10, 20, 30, 40, 50, 60}\n",
        "\n",
        "S1.remove(10)  \n",
        "S1.remove(30)  \n",
        "\n",
        "print(S1) \n"
      ],
      "metadata": {
        "colab": {
          "base_uri": "https://localhost:8080/"
        },
        "id": "yy892fOsp-pz",
        "outputId": "4c8cf3c8-26ef-4e38-99be-3606333d0b3d"
      },
      "execution_count": 41,
      "outputs": [
        {
          "output_type": "stream",
          "name": "stdout",
          "text": [
            "{50, 20, 40, 60}\n"
          ]
        }
      ]
    },
    {
      "cell_type": "markdown",
      "source": [
        "**(iii)**"
      ],
      "metadata": {
        "id": "PqqPSXPuqE-J"
      }
    },
    {
      "cell_type": "code",
      "source": [
        "S1 = {10, 20, 30, 40, 50, 60}\n",
        "\n",
        "if 40 in S1:\n",
        "    print(\"40 is present in S1.\")\n",
        "else:\n",
        "    print(\"40 is not present in S1.\")\n"
      ],
      "metadata": {
        "colab": {
          "base_uri": "https://localhost:8080/"
        },
        "id": "UgxyPGgSqGnK",
        "outputId": "bf577ff8-088f-4b04-a961-04d1694ea58a"
      },
      "execution_count": 42,
      "outputs": [
        {
          "output_type": "stream",
          "name": "stdout",
          "text": [
            "40 is present in S1.\n"
          ]
        }
      ]
    },
    {
      "cell_type": "markdown",
      "source": [
        "**(iv)**"
      ],
      "metadata": {
        "id": "8H7HONtDqTpx"
      }
    },
    {
      "cell_type": "code",
      "source": [
        "S1 = {10, 20, 30, 40, 50, 60}\n",
        "S2 = {40, 50, 60, 70, 80, 90}\n",
        "\n",
        "union_set = S1.union(S2)  \n",
        "print(\"Union of S1 and S2:\", union_set)\n"
      ],
      "metadata": {
        "colab": {
          "base_uri": "https://localhost:8080/"
        },
        "id": "EiwEkzDWrJbF",
        "outputId": "8672499c-a694-4383-e90a-08f2ea138ed2"
      },
      "execution_count": 43,
      "outputs": [
        {
          "output_type": "stream",
          "name": "stdout",
          "text": [
            "Union of S1 and S2: {70, 40, 10, 80, 50, 20, 90, 60, 30}\n"
          ]
        }
      ]
    },
    {
      "cell_type": "markdown",
      "source": [
        "**(v)**"
      ],
      "metadata": {
        "id": "LuylPiQ_rj4E"
      }
    },
    {
      "cell_type": "code",
      "source": [
        "\n",
        "intersection_set = S1.intersection(S2)  \n",
        "\n",
        "print(\"Intersection of S1 and S2:\", intersection_set)\n"
      ],
      "metadata": {
        "colab": {
          "base_uri": "https://localhost:8080/"
        },
        "id": "45h3p8cvrl32",
        "outputId": "c7885543-da95-4b18-abde-a7cf962e8d15"
      },
      "execution_count": 45,
      "outputs": [
        {
          "output_type": "stream",
          "name": "stdout",
          "text": [
            "Intersection of S1 and S2: {40, 50, 60}\n"
          ]
        }
      ]
    },
    {
      "cell_type": "markdown",
      "source": [
        "**(vi)**"
      ],
      "metadata": {
        "id": "vaO6fyporx77"
      }
    },
    {
      "cell_type": "code",
      "source": [
        "\n",
        "difference_set = S1.difference(S2) \n",
        "# difference_set = S1 - S2\n",
        "\n",
        "print(\"Difference of S1 - S2:\", difference_set)\n"
      ],
      "metadata": {
        "colab": {
          "base_uri": "https://localhost:8080/"
        },
        "id": "OKwL4QoIrz2B",
        "outputId": "26349eb5-0ff8-497e-dd16-3ee4fad9e318"
      },
      "execution_count": 46,
      "outputs": [
        {
          "output_type": "stream",
          "name": "stdout",
          "text": [
            "Difference of S1 - S2: {10, 20, 30}\n"
          ]
        }
      ]
    },
    {
      "cell_type": "markdown",
      "source": [
        "**Q4.**"
      ],
      "metadata": {
        "id": "V8GuOvL1sHRI"
      }
    },
    {
      "cell_type": "markdown",
      "source": [
        "**(i)**"
      ],
      "metadata": {
        "id": "Sf8FZocasJ4n"
      }
    },
    {
      "cell_type": "code",
      "source": [
        "import random\n",
        "import string\n",
        "\n",
        "for _ in range(100):\n",
        "    random_length = random.randint(6, 8)\n",
        "    random_string = ''.join(random.choices(string.ascii_letters + string.digits, k=random_length))\n",
        "    print(random_string)\n"
      ],
      "metadata": {
        "colab": {
          "base_uri": "https://localhost:8080/"
        },
        "id": "XlBM4QxusLYo",
        "outputId": "bde71c5c-4aec-4938-938a-3b3a7b70e7cb"
      },
      "execution_count": 47,
      "outputs": [
        {
          "output_type": "stream",
          "name": "stdout",
          "text": [
            "U4mjpr\n",
            "9PvRIiDu\n",
            "kckT0E\n",
            "xxqNkw\n",
            "uMZTc68m\n",
            "r1uz11X\n",
            "QDW8Aw\n",
            "B3BTGuN\n",
            "IQXUdJ\n",
            "QYsCYQP\n",
            "7dGq9VBi\n",
            "0ARnqFy\n",
            "2rEAFw\n",
            "UuFch8T\n",
            "zutREo\n",
            "TIDj48\n",
            "83mCV7IM\n",
            "fL06WjZo\n",
            "x4nqU4U\n",
            "1ENs3H\n",
            "e5gNkU\n",
            "RWLyupnr\n",
            "F9mXlHdr\n",
            "iJDsRjq\n",
            "gp6FUCp\n",
            "NubqLOCY\n",
            "IacRl1\n",
            "gYSC9T\n",
            "iU7KfwO\n",
            "o6k9ib\n",
            "Q1AVD5Yi\n",
            "4lcLZ4H\n",
            "UkdKa1\n",
            "N0CLMYI\n",
            "zux5yU\n",
            "mf8e2KUb\n",
            "DicNqaCc\n",
            "O2nPr8\n",
            "1XQbUiI\n",
            "MiPkYA4i\n",
            "Cg9fSSO\n",
            "cjmUCoGK\n",
            "63qnjqK\n",
            "KrfQX0CE\n",
            "HXpyh6U\n",
            "GfZIfzU\n",
            "E4oZYN3\n",
            "dPnNZ0\n",
            "eViQwqV\n",
            "lVzjS8uv\n",
            "zggmmb\n",
            "HGdxsqU\n",
            "h8i8Jt\n",
            "d0jUhgE\n",
            "FllqYb\n",
            "7zi0ETm\n",
            "03eqmE\n",
            "BAGcZxe\n",
            "aZf2EGQz\n",
            "PySsHqB\n",
            "qZJCNxB\n",
            "x5Drndli\n",
            "jsmoMP3M\n",
            "7jJSYv\n",
            "mXjDZr98\n",
            "R5RUkzD\n",
            "JybPKY\n",
            "E37Dmb\n",
            "mb3ZZA8f\n",
            "4BbYY9b\n",
            "i2bdf6Zs\n",
            "Y6bH7Ry\n",
            "dAzBTS\n",
            "5PKN5S\n",
            "ZYmwwS\n",
            "4PEKS9O\n",
            "w8obkXT\n",
            "Gg5MUU52\n",
            "eUO7aLQX\n",
            "bColfq\n",
            "jc4vcL\n",
            "T8g5qr5\n",
            "HcacHK\n",
            "T8TTbWK\n",
            "yzt1Ii\n",
            "OH4pqi7j\n",
            "yBGNT4D\n",
            "Hbt1ST\n",
            "ZfyALynA\n",
            "Cm0V1p\n",
            "ANQTO7c\n",
            "m7V6b2\n",
            "Tqg5pz\n",
            "T4hraK\n",
            "SuRPVPRs\n",
            "7fQ4MnQO\n",
            "SwJ3U7C\n",
            "av3BFvG\n",
            "HB47jlO\n",
            "MwIhoqY\n"
          ]
        }
      ]
    },
    {
      "cell_type": "markdown",
      "source": [
        "**(ii)**"
      ],
      "metadata": {
        "id": "eeO3b5CH8T-h"
      }
    },
    {
      "cell_type": "code",
      "source": [
        "def prime(n):\n",
        "  for i in range(2,int(n/2)+1):\n",
        "    if(n%i==0):\n",
        "      return 0\n",
        "  return 1\n",
        "for i in range(601,800):\n",
        "  if(prime(i)==1):\n",
        "    print(i)\n"
      ],
      "metadata": {
        "colab": {
          "base_uri": "https://localhost:8080/"
        },
        "id": "kfShbRUs8Vgi",
        "outputId": "49ad77da-317c-4c1d-b46a-b100ccddd94b"
      },
      "execution_count": 1,
      "outputs": [
        {
          "output_type": "stream",
          "name": "stdout",
          "text": [
            "601\n",
            "607\n",
            "613\n",
            "617\n",
            "619\n",
            "631\n",
            "641\n",
            "643\n",
            "647\n",
            "653\n",
            "659\n",
            "661\n",
            "673\n",
            "677\n",
            "683\n",
            "691\n",
            "701\n",
            "709\n",
            "719\n",
            "727\n",
            "733\n",
            "739\n",
            "743\n",
            "751\n",
            "757\n",
            "761\n",
            "769\n",
            "773\n",
            "787\n",
            "797\n"
          ]
        }
      ]
    },
    {
      "cell_type": "markdown",
      "source": [
        "**(iii)**"
      ],
      "metadata": {
        "id": "33VcJvcEMfKp"
      }
    },
    {
      "cell_type": "code",
      "source": [
        "for i in range(100,1000):\n",
        "    if(i%7 and i%9 ==0):\n",
        "      print(i)\n"
      ],
      "metadata": {
        "colab": {
          "base_uri": "https://localhost:8080/"
        },
        "id": "sHTetf4NMkMG",
        "outputId": "9cbc229f-9f01-42ba-8ad8-15a13292bda4"
      },
      "execution_count": 4,
      "outputs": [
        {
          "output_type": "stream",
          "name": "stdout",
          "text": [
            "108\n",
            "117\n",
            "135\n",
            "144\n",
            "153\n",
            "162\n",
            "171\n",
            "180\n",
            "198\n",
            "207\n",
            "216\n",
            "225\n",
            "234\n",
            "243\n",
            "261\n",
            "270\n",
            "279\n",
            "288\n",
            "297\n",
            "306\n",
            "324\n",
            "333\n",
            "342\n",
            "351\n",
            "360\n",
            "369\n",
            "387\n",
            "396\n",
            "405\n",
            "414\n",
            "423\n",
            "432\n",
            "450\n",
            "459\n",
            "468\n",
            "477\n",
            "486\n",
            "495\n",
            "513\n",
            "522\n",
            "531\n",
            "540\n",
            "549\n",
            "558\n",
            "576\n",
            "585\n",
            "594\n",
            "603\n",
            "612\n",
            "621\n",
            "639\n",
            "648\n",
            "657\n",
            "666\n",
            "675\n",
            "684\n",
            "702\n",
            "711\n",
            "720\n",
            "729\n",
            "738\n",
            "747\n",
            "765\n",
            "774\n",
            "783\n",
            "792\n",
            "801\n",
            "810\n",
            "828\n",
            "837\n",
            "846\n",
            "855\n",
            "864\n",
            "873\n",
            "891\n",
            "900\n",
            "909\n",
            "918\n",
            "927\n",
            "936\n",
            "954\n",
            "963\n",
            "972\n",
            "981\n",
            "990\n",
            "999\n"
          ]
        }
      ]
    },
    {
      "cell_type": "markdown",
      "source": [
        "**Q5.**"
      ],
      "metadata": {
        "id": "7we6JANHOi14"
      }
    },
    {
      "cell_type": "markdown",
      "source": [
        "**(i)**"
      ],
      "metadata": {
        "id": "KwMChdW0Omob"
      }
    },
    {
      "cell_type": "code",
      "source": [
        "import random\n",
        "\n",
        "list1 = [random.randint(10, 30) for _ in range(10)]\n",
        "list2 = [random.randint(10, 30) for _ in range(10)]\n",
        "\n",
        "print(\"List 1:\", list1)\n",
        "print(\"List 2:\", list2)\n"
      ],
      "metadata": {
        "colab": {
          "base_uri": "https://localhost:8080/"
        },
        "id": "nv-VRYBJOshl",
        "outputId": "c20dbc8c-f4d0-4c82-de56-9f917f178fb0"
      },
      "execution_count": 5,
      "outputs": [
        {
          "output_type": "stream",
          "name": "stdout",
          "text": [
            "List 1: [28, 24, 14, 28, 26, 12, 11, 29, 13, 14]\n",
            "List 2: [20, 27, 16, 29, 30, 18, 15, 18, 30, 12]\n"
          ]
        }
      ]
    },
    {
      "cell_type": "markdown",
      "source": [
        "**(ii)**"
      ],
      "metadata": {
        "id": "viGkYmViPIvq"
      }
    },
    {
      "cell_type": "code",
      "source": [
        "\n",
        "common_numbers = set(list1).intersection(list2)\n",
        "\n",
        "print(\"Common numbers:\", common_numbers)\n"
      ],
      "metadata": {
        "colab": {
          "base_uri": "https://localhost:8080/"
        },
        "id": "1p1HtjnVPfbb",
        "outputId": "e8dec4b4-b52c-4ceb-efc2-af930f49b1b0"
      },
      "execution_count": 7,
      "outputs": [
        {
          "output_type": "stream",
          "name": "stdout",
          "text": [
            "Common numbers: {15, 18, 21, 26, 28}\n"
          ]
        }
      ]
    },
    {
      "cell_type": "markdown",
      "source": [
        "**(iii)**"
      ],
      "metadata": {
        "id": "zfcRZbPFqwr-"
      }
    },
    {
      "cell_type": "code",
      "source": [
        "\n",
        "\n",
        "minimum_value = min(min(list1), min(list2))\n",
        "\n",
        "print(\"Minimum value:\", minimum_value)\n"
      ],
      "metadata": {
        "colab": {
          "base_uri": "https://localhost:8080/"
        },
        "id": "XG3y_udAqzqt",
        "outputId": "326d0db2-eb61-4f05-c61e-d8d1f21cae76"
      },
      "execution_count": 8,
      "outputs": [
        {
          "output_type": "stream",
          "name": "stdout",
          "text": [
            "Minimum value: 10\n"
          ]
        }
      ]
    },
    {
      "cell_type": "markdown",
      "source": [
        "**(iv)**"
      ],
      "metadata": {
        "id": "EcLTRhL5rHll"
      }
    },
    {
      "cell_type": "code",
      "source": [
        "\n",
        "maximum_value = max(max(list1), max(list2))\n",
        "\n",
        "print(\"Maximum value:\", maximum_value)\n"
      ],
      "metadata": {
        "colab": {
          "base_uri": "https://localhost:8080/"
        },
        "id": "8isCUKZGrJtX",
        "outputId": "dcc5573e-4766-497b-c539-bf7d061b1031"
      },
      "execution_count": 9,
      "outputs": [
        {
          "output_type": "stream",
          "name": "stdout",
          "text": [
            "Maximum value: 28\n"
          ]
        }
      ]
    },
    {
      "cell_type": "markdown",
      "source": [
        "**(v)**"
      ],
      "metadata": {
        "id": "woHLD2gtrV2u"
      }
    },
    {
      "cell_type": "code",
      "source": [
        "\n",
        "\n",
        "sum_of_lists = sum(list1) + sum(list2)\n",
        "\n",
        "print(\"Sum of lists:\", sum_of_lists)\n"
      ],
      "metadata": {
        "colab": {
          "base_uri": "https://localhost:8080/"
        },
        "id": "tsO0qf-xrXox",
        "outputId": "c0f758db-e6c1-4d47-b865-49da78347d65"
      },
      "execution_count": 10,
      "outputs": [
        {
          "output_type": "stream",
          "name": "stdout",
          "text": [
            "Sum of lists: 379\n"
          ]
        }
      ]
    },
    {
      "cell_type": "markdown",
      "source": [
        "**Q6.**"
      ],
      "metadata": {
        "id": "XskHb4PCrgxG"
      }
    },
    {
      "cell_type": "markdown",
      "source": [
        "**(i)**"
      ],
      "metadata": {
        "id": "Zz7dh3KQrjwF"
      }
    },
    {
      "cell_type": "code",
      "source": [
        "import random\n",
        "\n",
        "random_numbers = [random.randint(100, 900) for _ in range(100)]\n",
        "\n",
        "odd_numbers = []\n",
        "count_odd_numbers = 0\n",
        "\n",
        "for num in random_numbers:\n",
        "    if num % 2 != 0:\n",
        "        odd_numbers.append(num)\n",
        "        count_odd_numbers += 1\n",
        "\n",
        "print(\"Odd numbers:\", odd_numbers)\n",
        "print(\"Count of odd numbers:\", count_odd_numbers)\n"
      ],
      "metadata": {
        "colab": {
          "base_uri": "https://localhost:8080/"
        },
        "id": "GYE7SpwmrloX",
        "outputId": "2bf62a24-7a05-41d6-a87b-ce8c566796d1"
      },
      "execution_count": 6,
      "outputs": [
        {
          "output_type": "stream",
          "name": "stdout",
          "text": [
            "Odd numbers: [815, 741, 363, 655, 315, 529, 157, 137, 779, 631, 511, 537, 355, 335, 731, 821, 621, 861, 675, 387, 345, 227, 655, 859, 807, 369, 549, 167, 349, 383, 393, 871, 159, 175, 121, 109, 419, 319, 811, 639, 205, 725, 751, 447, 873, 513, 215, 421, 853, 555, 865, 537, 795, 723, 643, 551, 101]\n",
            "Count of odd numbers: 57\n"
          ]
        }
      ]
    },
    {
      "cell_type": "markdown",
      "source": [
        "**(ii)**"
      ],
      "metadata": {
        "id": "Su6cg8xUM3kl"
      }
    },
    {
      "cell_type": "code",
      "source": [
        "import random\n",
        "\n",
        "random_numbers = [random.randint(100, 900) for _ in range(100)]\n",
        "\n",
        "even_numbers = []\n",
        "count_even_numbers = 0\n",
        "\n",
        "for num in random_numbers:\n",
        "    if num % 2 == 0:\n",
        "        even_numbers.append(num)\n",
        "        count_even_numbers += 1\n",
        "\n",
        "print(\"Even numbers:\", even_numbers)\n",
        "print(\"Count of even numbers:\", count_even_numbers)\n"
      ],
      "metadata": {
        "colab": {
          "base_uri": "https://localhost:8080/"
        },
        "id": "EQ9Tg-ETNis8",
        "outputId": "d2bbbc9b-bdb9-4584-a88f-aa13d0f58256"
      },
      "execution_count": 5,
      "outputs": [
        {
          "output_type": "stream",
          "name": "stdout",
          "text": [
            "Even numbers: [848, 228, 490, 142, 612, 230, 730, 582, 562, 400, 174, 502, 376, 506, 240, 290, 586, 848, 866, 768, 832, 468, 276, 880, 816, 402, 344, 574, 746, 388, 636, 796, 724, 628, 428, 868, 522, 844, 482, 136, 354, 668, 862, 834, 894, 376, 856, 426, 822, 420]\n",
            "Count of even numbers: 50\n"
          ]
        }
      ]
    },
    {
      "cell_type": "markdown",
      "source": [
        "**(iii)**"
      ],
      "metadata": {
        "id": "Tz12_tjpOT9X"
      }
    },
    {
      "cell_type": "code",
      "source": [
        "import random\n",
        "\n",
        "def is_prime(num):\n",
        "    if num <= 1:\n",
        "        return False\n",
        "    for i in range(2, int(num ** 0.5) + 1):\n",
        "        if num % i == 0:\n",
        "            return False\n",
        "    return True\n",
        "\n",
        "random_numbers = [random.randint(100, 900) for _ in range(100)]\n",
        "\n",
        "prime_numbers = []\n",
        "count_prime_numbers = 0\n",
        "\n",
        "for num in random_numbers:\n",
        "    if is_prime(num):\n",
        "        prime_numbers.append(num)\n",
        "        count_prime_numbers += 1\n",
        "\n",
        "print(\"Prime numbers:\", prime_numbers)\n",
        "print(\"Count of prime numbers:\", count_prime_numbers)\n"
      ],
      "metadata": {
        "colab": {
          "base_uri": "https://localhost:8080/"
        },
        "id": "HPF2n7BiOVpY",
        "outputId": "904c6956-6e07-4c2a-f373-9c4434fb63a6"
      },
      "execution_count": 7,
      "outputs": [
        {
          "output_type": "stream",
          "name": "stdout",
          "text": [
            "Prime numbers: [809, 643, 491, 163, 431, 521, 233, 773, 701, 331, 617, 101, 401, 877, 277, 317]\n",
            "Count of prime numbers: 16\n"
          ]
        }
      ]
    },
    {
      "cell_type": "markdown",
      "source": [
        "**Q7.**"
      ],
      "metadata": {
        "id": "sqwEVMuwOhvi"
      }
    },
    {
      "cell_type": "code",
      "source": [
        "D = {1: \"One\", 2: \"Two\", 3: \"Three\", 4: \"Four\", 5: \"Five\"}\n",
        "\n",
        "\n",
        "with open(\"dictionary_output.txt\", \"w\") as file:\n",
        "    \n",
        "    for key, value in D.items():\n",
        "        \n",
        "        file.write(f\"{key}, {value}\\n\")\n",
        "\n",
        "print(\"Dictionary contents written to file successfully.\")\n"
      ],
      "metadata": {
        "colab": {
          "base_uri": "https://localhost:8080/"
        },
        "id": "g6GMjCmmOqDO",
        "outputId": "6f4c65f9-26a9-4c83-ecce-8dcd4d0303a1"
      },
      "execution_count": 15,
      "outputs": [
        {
          "output_type": "stream",
          "name": "stdout",
          "text": [
            "Dictionary contents written to file successfully.\n"
          ]
        }
      ]
    },
    {
      "cell_type": "markdown",
      "source": [
        "**Q8.**"
      ],
      "metadata": {
        "id": "4W-0P02ER_7M"
      }
    },
    {
      "cell_type": "code",
      "source": [
        "L=[\"One\",\"Two\",\"Three\",\"Four\",\"Five\"]\n",
        "M=[len(x) for x in L]\n",
        "with open(\"dictionary_output2.txt\", \"w\") as file:\n",
        "    \n",
        "    for i in range(len(L)):\n",
        "        \n",
        "        file.write(f\"{L[i]}, {M[i]}\\n\")\n",
        "\n",
        "print(\"Dictionary contents written to file successfully.\")"
      ],
      "metadata": {
        "colab": {
          "base_uri": "https://localhost:8080/"
        },
        "id": "sggVq7RHSBgW",
        "outputId": "ecee4d03-3de0-466c-c151-c18b0ab6e1bc"
      },
      "execution_count": 16,
      "outputs": [
        {
          "output_type": "stream",
          "name": "stdout",
          "text": [
            "Dictionary contents written to file successfully.\n"
          ]
        }
      ]
    },
    {
      "cell_type": "markdown",
      "source": [
        "**Q9.**"
      ],
      "metadata": {
        "id": "SeUyyrKbWiVP"
      }
    },
    {
      "cell_type": "code",
      "source": [
        "import random\n",
        "import string\n",
        "\n",
        "# Generate a list of 100 random strings\n",
        "random_strings = [''.join(random.choices(string.ascii_letters + string.digits, k=random.randint(10, 15))) for _ in range(100)]\n",
        "\n",
        "# Open the file in write mode\n",
        "with open(\"random_strings.txt\", \"w\") as file:\n",
        "    # Write each string to the file\n",
        "    for string in random_strings:\n",
        "        file.write(f\"{string}\\n\")\n",
        "\n",
        "print(\"Random strings written to file successfully.\")\n"
      ],
      "metadata": {
        "colab": {
          "base_uri": "https://localhost:8080/"
        },
        "id": "WmBMDlSaWkpA",
        "outputId": "7d4755b9-e191-4de2-a578-10f3409c8ac4"
      },
      "execution_count": 17,
      "outputs": [
        {
          "output_type": "stream",
          "name": "stdout",
          "text": [
            "Random strings written to file successfully.\n"
          ]
        }
      ]
    },
    {
      "cell_type": "markdown",
      "source": [
        "**Q10.**"
      ],
      "metadata": {
        "id": "chYDXofJWtKL"
      }
    },
    {
      "cell_type": "code",
      "source": [
        "def is_prime(num):\n",
        "    if num <= 1:\n",
        "        return False\n",
        "    for i in range(2, int(num ** 0.5) + 1):\n",
        "        if num % i == 0:\n",
        "            return False\n",
        "    return True\n",
        "\n",
        "\n",
        "with open(\"prime_numbers.txt\", \"w\") as file:\n",
        "    \n",
        "    for num in range(600, 801):\n",
        "        if is_prime(num):\n",
        "            file.write(f\"{num}\\n\")\n",
        "\n",
        "print(\"Prime numbers written to file successfully.\")\n"
      ],
      "metadata": {
        "colab": {
          "base_uri": "https://localhost:8080/"
        },
        "id": "fPAAMavvWvyt",
        "outputId": "25cee474-51e6-476c-b296-2e7e5fe55031"
      },
      "execution_count": 18,
      "outputs": [
        {
          "output_type": "stream",
          "name": "stdout",
          "text": [
            "Prime numbers written to file successfully.\n"
          ]
        }
      ]
    },
    {
      "cell_type": "markdown",
      "source": [
        "**Q11.**"
      ],
      "metadata": {
        "id": "TiOCK8O1XDPq"
      }
    },
    {
      "cell_type": "code",
      "source": [
        "import time\n",
        "start_time = time.time()\n",
        "a=[]\n",
        "for i in range(1,100000):\n",
        "  if(i%2==0):\n",
        "    a.append(i)\n",
        "end_time = time.time()\n",
        "elapsed_time = end_time - start_time\n",
        "print(\"Elapsed time:\", elapsed_time, \"seconds\")\n"
      ],
      "metadata": {
        "colab": {
          "base_uri": "https://localhost:8080/"
        },
        "id": "ixnxcshGXEy3",
        "outputId": "a20f9d2f-24f5-401a-be58-033b4f60f011"
      },
      "execution_count": 20,
      "outputs": [
        {
          "output_type": "stream",
          "name": "stdout",
          "text": [
            "Elapsed time: 0.00832819938659668 seconds\n"
          ]
        }
      ]
    },
    {
      "cell_type": "markdown",
      "source": [
        "**Q12.**"
      ],
      "metadata": {
        "id": "dVdMvXFAjWuw"
      }
    },
    {
      "cell_type": "code",
      "source": [
        "import time\n",
        "import matplotlib.pyplot as plt\n",
        "\n",
        "\n",
        "num_elements = [5000, 10000, 15000, 20000, 25000]\n",
        "\n",
        "\n",
        "time_taken = []\n",
        "for n in num_elements:\n",
        "    my_list = [random.randint(0, 1000) for _ in range(n)]\n",
        "    start_time = time.time()\n",
        "    sorted_list = sorted(my_list)\n",
        "    end_time = time.time()\n",
        "    elapsed_time = end_time - start_time\n",
        "    time_taken.append(elapsed_time)\n",
        "plt.plot(num_elements, time_taken, marker='o')\n",
        "plt.xlabel(\"Number of Elements\")\n",
        "plt.ylabel(\"Time Taken (seconds)\")\n",
        "plt.title(\"Sorting Time vs Number of Elements\")\n",
        "plt.show()\n"
      ],
      "metadata": {
        "colab": {
          "base_uri": "https://localhost:8080/",
          "height": 472
        },
        "id": "YyYYJK53jYqS",
        "outputId": "3a020c01-c4c6-45ce-ab80-48b4b2f8f06c"
      },
      "execution_count": 21,
      "outputs": [
        {
          "output_type": "display_data",
          "data": {
            "text/plain": [
              "<Figure size 640x480 with 1 Axes>"
            ],
            "image/png": "[encoded data removed]"
          },
          "metadata": {}
        }
      ]
    },
    {
      "cell_type": "markdown",
      "source": [
        "**Q13.**"
      ],
      "metadata": {
        "id": "1qBxqB5ikYtX"
      }
    },
    {
      "cell_type": "code",
      "source": [
        "\n",
        "student_marks = {\n",
        "    \"John\": [80, 75, 90, 85, 95],\n",
        "    \"Alice\": [70, 82, 88, 90, 92],\n",
        "    \"Bob\": [85, 90, 92, 78, 80],\n",
        "    \"Emily\": [92, 88, 95, 75, 85]\n",
        "}\n",
        "\n",
        "average_marks = {student: sum(marks) / len(marks) for student, marks in student_marks.items()}\n",
        "\n",
        "max_average_student = max(average_marks, key=average_marks.get)\n",
        "max_average_marks = average_marks[max_average_student]\n",
        "\n",
        "min_average_student = min(average_marks, key=average_marks.get)\n",
        "min_average_marks = average_marks[min_average_student]\n",
        "\n",
        "print(f\"Student with maximum average marks: {max_average_student} ({max_average_marks})\")\n",
        "print(f\"Student with minimum average marks: {min_average_student} ({min_average_marks})\")\n"
      ],
      "metadata": {
        "colab": {
          "base_uri": "https://localhost:8080/"
        },
        "id": "6-swbXjPka92",
        "outputId": "6fbcc249-bbf1-4276-c9b6-ad3eabf2297c"
      },
      "execution_count": 22,
      "outputs": [
        {
          "output_type": "stream",
          "name": "stdout",
          "text": [
            "Student with maximum average marks: Emily (87.0)\n",
            "Student with minimum average marks: Alice (84.4)\n"
          ]
        }
      ]
    }
  ]
}